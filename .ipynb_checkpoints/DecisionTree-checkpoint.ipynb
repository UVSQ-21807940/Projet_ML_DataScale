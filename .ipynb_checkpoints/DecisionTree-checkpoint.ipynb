{
 "cells": [
  {
   "cell_type": "markdown",
   "metadata": {},
   "source": [
    "# Méthode Decision tree : Arbre de décision\n",
    "Dans cette partie on va utiliser l'algorithme arbre de décision pour prédire les 3 classes, puis on évaluera ses performances avec la matrice de méthode de validation croisée, la matrice de confusion et aussi la courbe ROC."
   ]
  },
  {
   "cell_type": "code",
   "execution_count": 96,
   "metadata": {},
   "outputs": [],
   "source": [
    "#Içi on importe les bibliothèques qu'on aura besoin par la suite\n",
    "import pandas as pd\n",
    "import numpy as np\n",
    "import matplotlib.pyplot as plt"
   ]
  },
  {
   "cell_type": "code",
   "execution_count": 162,
   "metadata": {},
   "outputs": [],
   "source": [
    "# on importe le dataset\n",
    "dataset = pd.read_csv(\"Grisoni_et_al_2016_EnvInt88.csv\")\n",
    "# on divise le dataset en deux ensemble , un pour l'entrainement et l'autre pour le test selon un ration 75:25\n",
    "train = dataset[dataset.Set ==\"Train\"]\n",
    "test = dataset[dataset.Set ==\"Test\"]\n",
    "# les features x et les labels y pour l'ensemble d'entrainement.\n",
    "x_train = train[[ \"nHM\",\"ON1V\",\"X2Av\",\"PCD\",\"piPC09\",\"MLOGP\",\"N-072\",\"B02[C-N]\",\"F04[C-O]\",\"logBCF\"]]\n",
    "y_train = train[[\"Class\"]]\n",
    "# de meme pour l'ensemble de test.\n",
    "x_test = test[[ \"nHM\",\"ON1V\",\"X2Av\",\"PCD\",\"piPC09\",\"MLOGP\",\"N-072\",\"B02[C-N]\",\"F04[C-O]\",\"logBCF\"]]\n",
    "y_test = test[[\"Class\"]]"
   ]
  },
  {
   "cell_type": "code",
   "execution_count": 170,
   "metadata": {},
   "outputs": [
    {
     "name": "stdout",
     "output_type": "stream",
     "text": [
      "Best score for data1: 0.6815207780725022\n",
      "Best max-depth: 8\n"
     ]
    }
   ],
   "source": [
    "#On utilise la méthode GridSerachCV pour parcourir l'ensemble de valeurs de l'hyperparamètre et produit celui qui \n",
    "# donne un trés bon score.\n",
    "from sklearn.model_selection import GridSearchCV\n",
    "from sklearn.tree import DecisionTreeClassifier \n",
    "\n",
    "parameter_candidates = {'max_depth':[2,3,4,5,6,7,8,9,10,11,12,13,14,15,16,17,18,19,20]} # valeurs à parcourir\n",
    "# Create a classifier object with the classifier and parameter candidates\n",
    "clf = GridSearchCV(estimator=DecisionTreeClassifier(max_depth =d), param_grid=parameter_candidates, n_jobs=-1)\n",
    "\n",
    "# Train the classifier on data1's feature and target data\n",
    "clf.fit(x_train, y_train)   \n",
    "print('Best score for data1:', clf.best_score_) \n",
    "# View the best parameters for the model found using grid search\n",
    "print('Best max-depth:',clf.best_estimator_.max_depth) "
   ]
  },
  {
   "cell_type": "code",
   "execution_count": 154,
   "metadata": {},
   "outputs": [
    {
     "data": {
      "text/plain": [
       "[(0.6379900744416873, 2),\n",
       " (0.6393052109181141, 3),\n",
       " (0.6957981803143094, 4),\n",
       " (0.6907030603804798, 5),\n",
       " (0.6996112489660876, 6),\n",
       " (0.6919437551695616, 7),\n",
       " (0.7047559966914806, 8),\n",
       " (0.7047808105872623, 9),\n",
       " (0.6996360628618694, 10),\n",
       " (0.6752522746071133, 11),\n",
       " (0.6752357320099256, 12),\n",
       " (0.6611083540115799, 13),\n",
       " (0.6803639371381307, 14)]"
      ]
     },
     "execution_count": 154,
     "metadata": {},
     "output_type": "execute_result"
    }
   ],
   "source": [
    "#Içi une deuxième méthode en utilisant la méthode de validation croisée pour chaque max_depth et à la fin on choisit \n",
    "# l'hyperparamètre max_depth qui a la plus bonne précision.\n",
    "from sklearn.model_selection import cross_val_score\n",
    "from sklearn.tree import DecisionTreeClassifier \n",
    "\n",
    "X = dataset[[\"nHM\",\"ON1V\",\"X2Av\",\"PCD\",\"piPC09\",\"MLOGP\",\"N-072\",\"B02[C-N]\",\"F04[C-O]\",\"logBCF\"]] #features\n",
    "y = dataset[[\"Class\"]] # target class\n",
    "\n",
    "scores = [] # liste dans laquelle on stocke le score de validation de chaque fold.\n",
    "for d in range (2,15):\n",
    "    classifier = DecisionTreeClassifier(max_depth =d) #classifier\n",
    "    score_validation = cross_val_score(classifier, X, y, cv=5).mean() # parmi l'ensemble des scores renvoyer on fait le mean\n",
    "    scores.append((score_validation,d)) # et on le stocke dans la liste\n",
    "    \n",
    "scores #on affiche le score"
   ]
  },
  {
   "cell_type": "code",
   "execution_count": 197,
   "metadata": {},
   "outputs": [
    {
     "data": {
      "text/plain": [
       "0.6871794871794872"
      ]
     },
     "execution_count": 197,
     "metadata": {},
     "output_type": "execute_result"
    }
   ],
   "source": [
    "# Ici on calcule la précision de notre algorithme sur des nouvelles données (y_test)\n",
    "from sklearn.tree import DecisionTreeClassifier \n",
    "from sklearn.metrics import accuracy_score\n",
    "\n",
    "classifier = DecisionTreeClassifier(max_depth =8).fit(x_train, y_train) # on prend max_depth qui donne la plus forte précision daprès GridSearchCV\n",
    "\n",
    "dtree_predictions = classifier.predict(x_test)  # on évalue le modèle sur les données de test\n",
    "accuracy = accuracy_score(y_test,dtree_predictions ) # on calcule le score\n",
    "accuracy # on affiche le score"
   ]
  },
  {
   "cell_type": "code",
   "execution_count": 198,
   "metadata": {},
   "outputs": [
    {
     "name": "stdout",
     "output_type": "stream",
     "text": [
      "[[100   6   9]\n",
      " [  8   6   2]\n",
      " [ 34   2  28]]\n",
      "              precision    recall  f1-score   support\n",
      "\n",
      "           1       0.70      0.87      0.78       115\n",
      "           2       0.43      0.38      0.40        16\n",
      "           3       0.72      0.44      0.54        64\n",
      "\n",
      "    accuracy                           0.69       195\n",
      "   macro avg       0.62      0.56      0.57       195\n",
      "weighted avg       0.69      0.69      0.67       195\n",
      "\n"
     ]
    }
   ],
   "source": [
    "#Içi on calcule la matrice de confusion ainsi les reports de classification\n",
    "from sklearn.metrics import classification_report, confusion_matrix\n",
    "print(confusion_matrix(y_test,dtree_predictions))\n",
    "print(classification_report(y_test,dtree_predictions))\n"
   ]
  },
  {
   "cell_type": "code",
   "execution_count": 74,
   "metadata": {},
   "outputs": [
    {
     "data": {
      "image/png": "[encoded data removed]",
      "text/plain": [
       "<Figure size 432x288 with 1 Axes>"
      ]
     },
     "metadata": {
      "needs_background": "light"
     },
     "output_type": "display_data"
    }
   ],
   "source": [
    "# on étudie la variation de l'hyperparamètre max_depth en fonction de score.\n",
    "from sklearn.tree import DecisionTreeClassifier \n",
    "from sklearn import metrics\n",
    "##metrics.accuracy_score(y_test, classifier.predict(x_test))\n",
    "##score = classifier.score(x_test, y_test)\n",
    "#print('Score: %f' % score)\n",
    "scores = []\n",
    "for d in range(2,15):  # on parcourt tous les valeurs de max_depth\n",
    "    classifier = DecisionTreeClassifier(max_depth = d)  # puis crée le classifier avec la valeur max_depth\n",
    "    scores.append(classifier.fit(x_train, y_train).score(x_test, y_test)) # on entraine le modèle et on stocke le score dans la liste\n",
    " #on affiche le graphe en utilisant la librairie matplotlib    \n",
    "plt.plot(range(2,15), scores, 'o-')\n",
    "plt.xlabel(\"max_depth\")\n",
    "plt.ylabel(\"score\")\n",
    "plt.title(\"Variation de score par rapport à la profondeur de l'arbre\")\n",
    "\n",
    "plt.show()"
   ]
  },
  {
   "cell_type": "code",
   "execution_count": 94,
   "metadata": {},
   "outputs": [
    {
     "data": {
      "image/png": "[encoded data removed]",
      "text/plain": [
       "<Figure size 432x288 with 2 Axes>"
      ]
     },
     "metadata": {
      "needs_background": "light"
     },
     "output_type": "display_data"
    }
   ],
   "source": [
    "#deuxième façon pour calculer la matrice de confusion avec un nouveau format en utilisant la bibliothèque sklearn\n",
    "from sklearn.metrics import plot_confusion_matrix\n",
    "disp = plot_confusion_matrix(classifier, x_test, y_test,\n",
    "                                 display_labels=[1,2,3],\n",
    "                                 cmap=plt.cm.Blues)"
   ]
  },
  {
   "cell_type": "code",
   "execution_count": 33,
   "metadata": {},
   "outputs": [
    {
     "data": {
      "text/plain": [
       "0.6820512820512821"
      ]
     },
     "execution_count": 33,
     "metadata": {},
     "output_type": "execute_result"
    }
   ],
   "source": [
    "from sklearn.model_selection import GridSearchCV\n",
    "pgrid = {\"max_depth\": [1, 2, 3, 4, 5, 6, 7],\n",
    "      \"min_samples_split\": [2, 3, 5, 10, 15, 20]}\n",
    "grid_search = GridSearchCV(DecisionTreeClassifier(), param_grid=pgrid, cv=10)\n",
    "grid_search.fit(x_train, y_train)\n",
    "grid_search.best_estimator_.score(x_test, y_test)"
   ]
  },
  {
   "cell_type": "code",
   "execution_count": 32,
   "metadata": {},
   "outputs": [
    {
     "name": "stdout",
     "output_type": "stream",
     "text": [
      "0.7025641025641025\n"
     ]
    }
   ],
   "source": [
    "dtree_predictions = dtree_model.predict(x_test) \n",
    "accurancy = dtree_model.score(x_test,y_test)\n",
    "print(accurancy)"
   ]
  },
  {
   "cell_type": "raw",
   "metadata": {},
   "source": []
  },
  {
   "cell_type": "code",
   "execution_count": null,
   "metadata": {},
   "outputs": [],
   "source": []
  }
 ],
 "metadata": {
  "kernelspec": {
   "display_name": "Python 3",
   "language": "python",
   "name": "python3"
  },
  "language_info": {
   "codemirror_mode": {
    "name": "ipython",
    "version": 3
   },
   "file_extension": ".py",
   "mimetype": "text/x-python",
   "name": "python",
   "nbconvert_exporter": "python",
   "pygments_lexer": "ipython3",
   "version": "3.8.5"
  }
 },
 "nbformat": 4,
 "nbformat_minor": 4
}
